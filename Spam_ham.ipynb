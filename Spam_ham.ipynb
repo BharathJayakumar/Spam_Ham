{
 "cells": [
  {
   "cell_type": "code",
   "execution_count": null,
   "id": "c5e5e1ce-b258-4a38-9f0f-11ffc831c37f",
   "metadata": {},
   "outputs": [],
   "source": [
    "!pip install gdown\n",
    "\n",
    "import gdown\n",
    "import pandas as pd\n",
    "\n",
    "# Use the actual Google Drive file ID\n",
    "file_id = '1R07wlWv7PkSkgJhC8B2D_OoHsrdCW3yU'\n",
    "url = f'https://drive.google.com/uc?id={file_id}'\n",
    "output = 'spam_ham_dataset.csv'\n",
    "\n",
    "# Download the file\n",
    "gdown.download(url, output, quiet=False)\n",
    "\n",
    "# Read the downloaded file\n",
    "df = pd.read_csv(output)\n",
    "\n",
    "# Display the first few rows of the dataframe\n",
    "print(df.head())\n"
   ]
  },
  {
   "cell_type": "code",
   "execution_count": 28,
   "id": "191cfca1-4191-47ee-9dcc-0a3627e37db5",
   "metadata": {},
   "outputs": [],
   "source": [
    "import numpy as np\n",
    "import pandas as pd\n",
    "from sklearn.model_selection import train_test_split\n",
    "from sklearn.feature_extraction.text import TfidfVectorizer\n",
    "from sklearn.linear_model import LogisticRegression\n",
    "from sklearn.metrics import accuracy_score"
   ]
  },
  {
   "cell_type": "code",
   "execution_count": 29,
   "id": "c9ffe718-5adf-46f9-977a-820d7b1ea311",
   "metadata": {},
   "outputs": [
    {
     "name": "stdout",
     "output_type": "stream",
     "text": [
      "<bound method NDFrame.head of       Unnamed: 0 label                                               text  \\\n",
      "0            605   ham  Subject: enron methanol ; meter # : 988291\\r\\n...   \n",
      "1           2349   ham  Subject: hpl nom for january 9 , 2001\\r\\n( see...   \n",
      "2           3624   ham  Subject: neon retreat\\r\\nho ho ho , we ' re ar...   \n",
      "3           4685  spam  Subject: photoshop , windows , office . cheap ...   \n",
      "4           2030   ham  Subject: re : indian springs\\r\\nthis deal is t...   \n",
      "...          ...   ...                                                ...   \n",
      "5166        1518   ham  Subject: put the 10 on the ft\\r\\nthe transport...   \n",
      "5167         404   ham  Subject: 3 / 4 / 2000 and following noms\\r\\nhp...   \n",
      "5168        2933   ham  Subject: calpine daily gas nomination\\r\\n>\\r\\n...   \n",
      "5169        1409   ham  Subject: industrial worksheets for august 2000...   \n",
      "5170        4807  spam  Subject: important online banking alert\\r\\ndea...   \n",
      "\n",
      "      label_num  \n",
      "0             0  \n",
      "1             0  \n",
      "2             0  \n",
      "3             1  \n",
      "4             0  \n",
      "...         ...  \n",
      "5166          0  \n",
      "5167          0  \n",
      "5168          0  \n",
      "5169          0  \n",
      "5170          1  \n",
      "\n",
      "[5171 rows x 4 columns]>\n"
     ]
    }
   ],
   "source": [
    "\n",
    "file_path = r'local_path'\n",
    "\n",
    "df = pd.read_csv(file_path)\n",
    "print(df.head)"
   ]
  },
  {
   "cell_type": "code",
   "execution_count": 30,
   "id": "4e344243-e3fb-495e-890e-9ed3cbc78439",
   "metadata": {},
   "outputs": [],
   "source": [
    "data = df.where(pd.notnull(df), '')"
   ]
  },
  {
   "cell_type": "code",
   "execution_count": 31,
   "id": "4720ae5d-d47e-40ad-a671-2f24d28385e6",
   "metadata": {},
   "outputs": [
    {
     "data": {
      "text/html": [
       "<div>\n",
       "<style scoped>\n",
       "    .dataframe tbody tr th:only-of-type {\n",
       "        vertical-align: middle;\n",
       "    }\n",
       "\n",
       "    .dataframe tbody tr th {\n",
       "        vertical-align: top;\n",
       "    }\n",
       "\n",
       "    .dataframe thead th {\n",
       "        text-align: right;\n",
       "    }\n",
       "</style>\n",
       "<table border=\"1\" class=\"dataframe\">\n",
       "  <thead>\n",
       "    <tr style=\"text-align: right;\">\n",
       "      <th></th>\n",
       "      <th>Unnamed: 0</th>\n",
       "      <th>label</th>\n",
       "      <th>text</th>\n",
       "      <th>label_num</th>\n",
       "    </tr>\n",
       "  </thead>\n",
       "  <tbody>\n",
       "    <tr>\n",
       "      <th>0</th>\n",
       "      <td>605</td>\n",
       "      <td>ham</td>\n",
       "      <td>Subject: enron methanol ; meter # : 988291\\r\\n...</td>\n",
       "      <td>0</td>\n",
       "    </tr>\n",
       "    <tr>\n",
       "      <th>1</th>\n",
       "      <td>2349</td>\n",
       "      <td>ham</td>\n",
       "      <td>Subject: hpl nom for january 9 , 2001\\r\\n( see...</td>\n",
       "      <td>0</td>\n",
       "    </tr>\n",
       "    <tr>\n",
       "      <th>2</th>\n",
       "      <td>3624</td>\n",
       "      <td>ham</td>\n",
       "      <td>Subject: neon retreat\\r\\nho ho ho , we ' re ar...</td>\n",
       "      <td>0</td>\n",
       "    </tr>\n",
       "    <tr>\n",
       "      <th>3</th>\n",
       "      <td>4685</td>\n",
       "      <td>spam</td>\n",
       "      <td>Subject: photoshop , windows , office . cheap ...</td>\n",
       "      <td>1</td>\n",
       "    </tr>\n",
       "    <tr>\n",
       "      <th>4</th>\n",
       "      <td>2030</td>\n",
       "      <td>ham</td>\n",
       "      <td>Subject: re : indian springs\\r\\nthis deal is t...</td>\n",
       "      <td>0</td>\n",
       "    </tr>\n",
       "  </tbody>\n",
       "</table>\n",
       "</div>"
      ],
      "text/plain": [
       "   Unnamed: 0 label                                               text  \\\n",
       "0         605   ham  Subject: enron methanol ; meter # : 988291\\r\\n...   \n",
       "1        2349   ham  Subject: hpl nom for january 9 , 2001\\r\\n( see...   \n",
       "2        3624   ham  Subject: neon retreat\\r\\nho ho ho , we ' re ar...   \n",
       "3        4685  spam  Subject: photoshop , windows , office . cheap ...   \n",
       "4        2030   ham  Subject: re : indian springs\\r\\nthis deal is t...   \n",
       "\n",
       "   label_num  \n",
       "0          0  \n",
       "1          0  \n",
       "2          0  \n",
       "3          1  \n",
       "4          0  "
      ]
     },
     "execution_count": 31,
     "metadata": {},
     "output_type": "execute_result"
    }
   ],
   "source": [
    "df.head(\n",
    ")"
   ]
  },
  {
   "cell_type": "code",
   "execution_count": 32,
   "id": "261516d5-9666-4a39-bc16-3d58bf86f48d",
   "metadata": {},
   "outputs": [
    {
     "data": {
      "text/plain": [
       "<bound method DataFrame.info of       Unnamed: 0 label                                               text  \\\n",
       "0            605   ham  Subject: enron methanol ; meter # : 988291\\r\\n...   \n",
       "1           2349   ham  Subject: hpl nom for january 9 , 2001\\r\\n( see...   \n",
       "2           3624   ham  Subject: neon retreat\\r\\nho ho ho , we ' re ar...   \n",
       "3           4685  spam  Subject: photoshop , windows , office . cheap ...   \n",
       "4           2030   ham  Subject: re : indian springs\\r\\nthis deal is t...   \n",
       "...          ...   ...                                                ...   \n",
       "5166        1518   ham  Subject: put the 10 on the ft\\r\\nthe transport...   \n",
       "5167         404   ham  Subject: 3 / 4 / 2000 and following noms\\r\\nhp...   \n",
       "5168        2933   ham  Subject: calpine daily gas nomination\\r\\n>\\r\\n...   \n",
       "5169        1409   ham  Subject: industrial worksheets for august 2000...   \n",
       "5170        4807  spam  Subject: important online banking alert\\r\\ndea...   \n",
       "\n",
       "      label_num  \n",
       "0             0  \n",
       "1             0  \n",
       "2             0  \n",
       "3             1  \n",
       "4             0  \n",
       "...         ...  \n",
       "5166          0  \n",
       "5167          0  \n",
       "5168          0  \n",
       "5169          0  \n",
       "5170          1  \n",
       "\n",
       "[5171 rows x 4 columns]>"
      ]
     },
     "execution_count": 32,
     "metadata": {},
     "output_type": "execute_result"
    }
   ],
   "source": [
    "df.info"
   ]
  },
  {
   "cell_type": "code",
   "execution_count": 33,
   "id": "482fc0ff-bbb5-418f-a31c-3013b6d18305",
   "metadata": {},
   "outputs": [
    {
     "data": {
      "text/plain": [
       "(5171, 4)"
      ]
     },
     "execution_count": 33,
     "metadata": {},
     "output_type": "execute_result"
    }
   ],
   "source": [
    "data.shape"
   ]
  },
  {
   "cell_type": "code",
   "execution_count": 34,
   "id": "165a0ed3-6bea-4d0e-b491-47c608ea5e6b",
   "metadata": {},
   "outputs": [],
   "source": [
    "Y = data['label_num']\n",
    "X = data['text']"
   ]
  },
  {
   "cell_type": "code",
   "execution_count": 35,
   "id": "4df29b82-d108-4e9f-994c-afcfa963b352",
   "metadata": {},
   "outputs": [
    {
     "name": "stdout",
     "output_type": "stream",
     "text": [
      "0       0\n",
      "1       0\n",
      "2       0\n",
      "3       1\n",
      "4       0\n",
      "       ..\n",
      "5166    0\n",
      "5167    0\n",
      "5168    0\n",
      "5169    0\n",
      "5170    1\n",
      "Name: label_num, Length: 5171, dtype: int64\n"
     ]
    }
   ],
   "source": [
    "print(Y)\n"
   ]
  },
  {
   "cell_type": "code",
   "execution_count": 36,
   "id": "4d78d6b7-a062-427c-ba69-3ee7baa22c6c",
   "metadata": {},
   "outputs": [
    {
     "name": "stdout",
     "output_type": "stream",
     "text": [
      "0       Subject: enron methanol ; meter # : 988291\\r\\n...\n",
      "1       Subject: hpl nom for january 9 , 2001\\r\\n( see...\n",
      "2       Subject: neon retreat\\r\\nho ho ho , we ' re ar...\n",
      "3       Subject: photoshop , windows , office . cheap ...\n",
      "4       Subject: re : indian springs\\r\\nthis deal is t...\n",
      "                              ...                        \n",
      "5166    Subject: put the 10 on the ft\\r\\nthe transport...\n",
      "5167    Subject: 3 / 4 / 2000 and following noms\\r\\nhp...\n",
      "5168    Subject: calpine daily gas nomination\\r\\n>\\r\\n...\n",
      "5169    Subject: industrial worksheets for august 2000...\n",
      "5170    Subject: important online banking alert\\r\\ndea...\n",
      "Name: text, Length: 5171, dtype: object\n"
     ]
    }
   ],
   "source": [
    "print(X)"
   ]
  },
  {
   "cell_type": "code",
   "execution_count": 37,
   "id": "b5a6d345-bca1-40ec-bc89-8f6ca4a988c5",
   "metadata": {},
   "outputs": [],
   "source": [
    "X_test,X_train,Y_test,Y_train = train_test_split(X,Y,train_size=0.2,random_state=3)"
   ]
  },
  {
   "cell_type": "code",
   "execution_count": 38,
   "id": "8a577110-7865-42aa-b0b4-b114d8ff5779",
   "metadata": {},
   "outputs": [
    {
     "name": "stdout",
     "output_type": "stream",
     "text": [
      "(5171,)\n",
      "(4137,)\n",
      "(1034,)\n"
     ]
    }
   ],
   "source": [
    "print(X.shape)\n",
    "print(X_train.shape)\n",
    "print(X_test.shape)"
   ]
  },
  {
   "cell_type": "code",
   "execution_count": 39,
   "id": "78c0a08e-8a22-418d-bf22-22ec6ffa96c6",
   "metadata": {},
   "outputs": [],
   "source": [
    "feature_extraction = TfidfVectorizer( min_df = 1, stop_words = 'english', lowercase= True)\n",
    "\n",
    "\n",
    "X_train_features = feature_extraction.fit_transform(X_train)\n",
    "X_test_features = feature_extraction.transform(X_test)\n",
    "\n",
    "Y_train_features = Y_train.astype('int')\n",
    "Y_test_features = Y_test.astype('int')"
   ]
  },
  {
   "cell_type": "code",
   "execution_count": 49,
   "id": "c268ff17-cc03-46f5-9b9b-dcce21712822",
   "metadata": {},
   "outputs": [
    {
     "data": {
      "text/plain": [
       "['vectorizer.pkl']"
      ]
     },
     "execution_count": 49,
     "metadata": {},
     "output_type": "execute_result"
    }
   ],
   "source": [
    "joblib.dump(feature_extraction, 'vectorizer.pkl')"
   ]
  },
  {
   "cell_type": "code",
   "execution_count": 40,
   "id": "94d9b975-f7b7-4182-8155-cea31aa4dd72",
   "metadata": {},
   "outputs": [
    {
     "name": "stdout",
     "output_type": "stream",
     "text": [
      "4020    Subject: anouncing a new player in the market ...\n",
      "3561    Subject: 87 % off for all new software . darne...\n",
      "3434    Subject: write off of meter 74 volumes\\r\\naime...\n",
      "111     Subject: cox exploration\\r\\ndarren , we had a ...\n",
      "1126    Subject: february buyback deals\\r\\njust in cas...\n",
      "                              ...                        \n",
      "2309    Subject: ladies rolex watches\\r\\ncall me at ro...\n",
      "3727    Subject: re : cornhusker\\r\\njohn ,\\r\\ni have a...\n",
      "385     Subject: eastrans nomination change effective ...\n",
      "2300    Subject: work at pg & e meters 6040 riverside ...\n",
      "4504    Subject: new pictures\\r\\nfor faster viewing , ...\n",
      "Name: text, Length: 4137, dtype: object\n"
     ]
    }
   ],
   "source": [
    "print(X_train)"
   ]
  },
  {
   "cell_type": "code",
   "execution_count": 15,
   "id": "2f52dfea-24f9-4313-a4f5-b6ee39e186b1",
   "metadata": {},
   "outputs": [],
   "source": [
    "model = LogisticRegression()"
   ]
  },
  {
   "cell_type": "code",
   "execution_count": 47,
   "id": "e516e313-53f7-49d8-9356-ffcaa464bb2d",
   "metadata": {},
   "outputs": [
    {
     "data": {
      "text/plain": [
       "['joblib_model.sav']"
      ]
     },
     "execution_count": 47,
     "metadata": {},
     "output_type": "execute_result"
    }
   ],
   "source": [
    "model.fit(X_train_features,Y_train)\n",
    "import joblib \n",
    "\n",
    "# save model with joblib \n",
    "filename = 'joblib_model.sav'\n",
    "joblib.dump(model, filename)"
   ]
  },
  {
   "cell_type": "code",
   "execution_count": 42,
   "id": "b10727a8-e83e-45b8-b483-534f8d970a99",
   "metadata": {},
   "outputs": [],
   "source": [
    "POTD = model.predict(X_train_features)\n",
    "AOTD = accuracy_score(Y_train,POTD)"
   ]
  },
  {
   "cell_type": "code",
   "execution_count": 43,
   "id": "6b2727f6-e722-4d02-8938-0a19944d816a",
   "metadata": {},
   "outputs": [
    {
     "name": "stdout",
     "output_type": "stream",
     "text": [
      "acc on TD: 0.9961324631375392\n"
     ]
    }
   ],
   "source": [
    "print('acc on TD:',AOTD)"
   ]
  },
  {
   "cell_type": "code",
   "execution_count": 44,
   "id": "af43a360-daf4-4502-a6d8-7c6952223495",
   "metadata": {},
   "outputs": [],
   "source": [
    "POTED = model.predict(X_test_features)\n",
    "AOTED = accuracy_score(Y_test,POTED)"
   ]
  },
  {
   "cell_type": "code",
   "execution_count": 45,
   "id": "2093f558-0975-4f67-8daf-c17f56b6aee0",
   "metadata": {},
   "outputs": [
    {
     "name": "stdout",
     "output_type": "stream",
     "text": [
      "acc on TED: 0.9874274661508704\n"
     ]
    }
   ],
   "source": [
    "print('acc on TED:', AOTED)"
   ]
  },
  {
   "cell_type": "code",
   "execution_count": 27,
   "id": "18ef6d50-21ee-47c1-96a4-d7a499d007b8",
   "metadata": {},
   "outputs": [
    {
     "name": "stdout",
     "output_type": "stream",
     "text": [
      "[1]\n",
      "Spam mail\n"
     ]
    }
   ],
   "source": [
    "IYM= ['Shop-Scratch & Win!!']\n",
    "input_data_feature = feature_extraction.transform(IYM)\n",
    "prediction = model.predict(input_data_feature)\n",
    "print(prediction)\n",
    "\n",
    "if(prediction[0] ==  1):\n",
    "    print('Spam mail')\n",
    "else:\n",
    "    print('ham mail')\n",
    "    "
   ]
  },
  {
   "cell_type": "code",
   "execution_count": 25,
   "id": "9be191fc-87be-4fac-99a1-24086bd8e06c",
   "metadata": {},
   "outputs": [],
   "source": [
    "import imaplib\n",
    "import email\n",
    "from email import policy\n",
    "from email.parser import BytesParser\n",
    "import joblib"
   ]
  },
  {
   "cell_type": "code",
   "execution_count": 26,
   "id": "9eeb440f-b78a-4181-a4e1-a80f7ba6bcab",
   "metadata": {},
   "outputs": [
    {
     "name": "stdout",
     "output_type": "stream",
     "text": [
      "Login successful!\n"
     ]
    }
   ],
   "source": [
    "\n",
    "# Connect to the server\n",
    "mail = imaplib.IMAP4_SSL('imap.gmail.com')\n",
    "\n",
    "# Use your email and app password\n",
    "email_address = 'ghost00fierce@gmail.com'\n",
    "app_password = 'yexz qqjv ihiw luhf '\n",
    "\n",
    "try:\n",
    "    mail.login(email_address, app_password)\n",
    "    print(\"Login successful!\")\n",
    "except imaplib.IMAP4.error as e:\n",
    "    print(f\"Login failed: {e}\")\n",
    "\n",
    "# Select the mailbox you want to check\n",
    "mail.select('inbox')\n",
    "\n",
    "# Search for all emails in the inbox\n",
    "status, messages = mail.search(None, 'ALL')\n",
    "mail_ids = messages[0].split()\n",
    "\n",
    "# Process the emails as described earlier\n"
   ]
  },
  {
   "cell_type": "code",
   "execution_count": 51,
   "id": "4eca5068-9b80-4a46-920f-f1188b7fca5e",
   "metadata": {},
   "outputs": [
    {
     "name": "stdout",
     "output_type": "stream",
     "text": [
      "Login successful!\n",
      "Email moved to \\Spam\n",
      "Email moved to \\Spam\n",
      "Email moved to \\Spam\n",
      "Email moved to \\Spam\n",
      "Email b'5' is not spam and remains in the inbox.\n",
      "Email moved to \\Spam\n",
      "Email moved to \\Spam\n",
      "Email moved to \\Spam\n",
      "Email moved to \\Spam\n",
      "Email moved to \\Spam\n",
      "Email moved to \\Spam\n",
      "Email moved to \\Spam\n",
      "Email b'13' is not spam and remains in the inbox.\n",
      "Email moved to \\Spam\n",
      "Email moved to \\Spam\n",
      "Email moved to \\Spam\n",
      "Email b'17' is not spam and remains in the inbox.\n",
      "All emails processed.\n"
     ]
    }
   ],
   "source": [
    "import imaplib\n",
    "import email\n",
    "from email import policy\n",
    "from email.parser import BytesParser\n",
    "import joblib\n",
    "\n",
    "# Connect to the Gmail IMAP server\n",
    "mail = imaplib.IMAP4_SSL('imap.gmail.com')\n",
    "\n",
    "# Replace with your email and app-specific password\n",
    "email_address = 'test@email.com'\n",
    "app_password = 'password'  # Use the 16-character password generated\n",
    "\n",
    "try:\n",
    "    mail.login(email_address, app_password)\n",
    "    print(\"Login successful!\")\n",
    "except imaplib.IMAP4.error as e:\n",
    "    print(f\"Login failed: {e}\")\n",
    "    exit()\n",
    "\n",
    "# Ensure the connection is in the AUTH state before proceeding\n",
    "if mail.state == 'AUTH':\n",
    "    mail.select('inbox') \n",
    "    status, messages = mail.search(None, 'ALL')\n",
    "    mail_ids = messages[0].split()\n",
    "\n",
    "    if not mail_ids:\n",
    "        print(\"No emails found.\")\n",
    "        exit()\n",
    "\n",
    "    for mail_id in mail_ids:\n",
    "        \n",
    "        status, data = mail.fetch(mail_id, '(RFC822)')\n",
    "        raw_email = data[0][1]\n",
    "        email_message = BytesParser(policy=policy.default).parsebytes(raw_email)\n",
    "\n",
    "        # Function to extract email content\n",
    "        def extract_email_body(email_message):\n",
    "            if email_message.is_multipart():\n",
    "                for part in email_message.walk():\n",
    "                    if part.get_content_type() == 'text/plain':\n",
    "                        return part.get_payload(decode=True).decode()\n",
    "            else:\n",
    "                return email_message.get_payload(decode=True).decode()\n",
    "\n",
    "        email_body = extract_email_body(email_message)\n",
    "\n",
    "        # Load your pre-trained model and vectorizer\n",
    "        model = joblib.load('joblib_model.sav')\n",
    "        vectorizer = joblib.load('vectorizer.pkl')  # Assuming you have saved your vectorizer similarly\n",
    "\n",
    "        # Preprocess the email body (e.g., tokenization, vectorization)\n",
    "        email_features = vectorizer.transform([email_body])\n",
    "\n",
    "        # Predict using the loaded model\n",
    "        prediction = model.predict(email_features)\n",
    "\n",
    "        # Function to move email to a folder\n",
    "        def move_email_to_folder(mail, mail_id, folder_name):\n",
    "            result = mail.store(mail_id, '+X-GM-LABELS', folder_name)\n",
    "            if result[0] == 'OK':\n",
    "                print(f\"Email moved to {folder_name}\")\n",
    "            else:\n",
    "                print(f\"Failed to move email to {folder_name}\")\n",
    "\n",
    "        # Move email based on prediction\n",
    "        if prediction == 1:\n",
    "            # Move email to the spam folder\n",
    "            move_email_to_folder(mail, mail_id, '\\\\Spam')\n",
    "        else:\n",
    "            # Leave the email in the inbox (Gmail automatically leaves it there)\n",
    "            print(f\"Email {mail_id} is not spam and remains in the inbox.\")\n",
    "\n",
    "    print(\"All emails processed.\")\n",
    "else:\n",
    "    print(\"Failed to authenticate the IMAP connection.\")\n"
   ]
  }
 ],
 "metadata": {
  "kernelspec": {
   "display_name": "Python 3 (ipykernel)",
   "language": "python",
   "name": "python3"
  },
  "language_info": {
   "codemirror_mode": {
    "name": "ipython",
    "version": 3
   },
   "file_extension": ".py",
   "mimetype": "text/x-python",
   "name": "python",
   "nbconvert_exporter": "python",
   "pygments_lexer": "ipython3",
   "version": "3.11.4"
  }
 },
 "nbformat": 4,
 "nbformat_minor": 5
}
